{
  "nbformat": 4,
  "nbformat_minor": 0,
  "metadata": {
    "colab": {
      "provenance": [],
      "authorship_tag": "ABX9TyNdi+f1I0eRLmdzpJI7LqIQ",
      "include_colab_link": true
    },
    "kernelspec": {
      "name": "python3",
      "display_name": "Python 3"
    },
    "language_info": {
      "name": "python"
    }
  },
  "cells": [
    {
      "cell_type": "markdown",
      "metadata": {
        "id": "view-in-github",
        "colab_type": "text"
      },
      "source": [
        "<a href=\"https://colab.research.google.com/github/JSJeong-me/KOSA_ChatGPT_0531/blob/main/API_text2image.ipynb\" target=\"_parent\"><img src=\"https://colab.research.google.com/assets/colab-badge.svg\" alt=\"Open In Colab\"/></a>"
      ]
    },
    {
      "cell_type": "code",
      "execution_count": null,
      "metadata": {
        "id": "IfjOf5xnefjy"
      },
      "outputs": [],
      "source": [
        "%env OPENAI_API_KEY=sk-"
      ]
    },
    {
      "cell_type": "code",
      "source": [
        "!pip install openai"
      ],
      "metadata": {
        "id": "Zr8PZ5LHffxd"
      },
      "execution_count": null,
      "outputs": []
    },
    {
      "cell_type": "markdown",
      "source": [
        "### Recipe creator"
      ],
      "metadata": {
        "id": "j2Qvs1-Ufq7d"
      }
    },
    {
      "cell_type": "code",
      "source": [
        "import os\n",
        "import openai\n",
        "\n",
        "openai.api_key = os.getenv(\"OPENAI_API_KEY\")"
      ],
      "metadata": {
        "id": "D12P26LBuo_b"
      },
      "execution_count": 6,
      "outputs": []
    },
    {
      "cell_type": "code",
      "source": [
        "response = openai.Image.create(\n",
        "  prompt=\"a raccoon is driving a tractor.\",\n",
        "  n=1,\n",
        "  size=\"1024x1024\"\n",
        ")\n",
        "image_url = response['data'][0]['url']"
      ],
      "metadata": {
        "id": "oEPPMkMiua26"
      },
      "execution_count": 7,
      "outputs": []
    },
    {
      "cell_type": "code",
      "source": [
        "image_url"
      ],
      "metadata": {
        "id": "9z0qSXgju1Db",
        "outputId": "37d806a0-a3fb-4f38-8abd-3227ba63d421",
        "colab": {
          "base_uri": "https://localhost:8080/",
          "height": 90
        }
      },
      "execution_count": 8,
      "outputs": [
        {
          "output_type": "execute_result",
          "data": {
            "text/plain": [
              "'https://oaidalleapiprodscus.blob.core.windows.net/private/org-mwdEU4co3GnsGgGTfEKk4CyS/user-dzNzzfpvVaKTobJfs0vPnnW1/img-4vidWFCl3IdpQFjnMDQqZqOA.png?st=2023-05-20T00%3A16%3A53Z&se=2023-05-20T02%3A16%3A53Z&sp=r&sv=2021-08-06&sr=b&rscd=inline&rsct=image/png&skoid=6aaadede-4fb3-4698-a8f6-684d7786b067&sktid=a48cca56-e6da-484e-a814-9c849652bcb3&skt=2023-05-19T20%3A56%3A34Z&ske=2023-05-20T20%3A56%3A34Z&sks=b&skv=2021-08-06&sig=eRiGkd7wn73fvVF7a/jCMvQ%2BgWYKlShPJXLyBKuNWLg%3D'"
            ],
            "application/vnd.google.colaboratory.intrinsic+json": {
              "type": "string"
            }
          },
          "metadata": {},
          "execution_count": 8
        }
      ]
    },
    {
      "cell_type": "code",
      "source": [
        "response"
      ],
      "metadata": {
        "id": "PCtgpn85f53h",
        "outputId": "5b79b565-2440-4494-a6ba-e397a1547dc3",
        "colab": {
          "base_uri": "https://localhost:8080/"
        }
      },
      "execution_count": 9,
      "outputs": [
        {
          "output_type": "execute_result",
          "data": {
            "text/plain": [
              "<OpenAIObject at 0x7fe33e17f5b0> JSON: {\n",
              "  \"created\": 1684545413,\n",
              "  \"data\": [\n",
              "    {\n",
              "      \"url\": \"https://oaidalleapiprodscus.blob.core.windows.net/private/org-mwdEU4co3GnsGgGTfEKk4CyS/user-dzNzzfpvVaKTobJfs0vPnnW1/img-4vidWFCl3IdpQFjnMDQqZqOA.png?st=2023-05-20T00%3A16%3A53Z&se=2023-05-20T02%3A16%3A53Z&sp=r&sv=2021-08-06&sr=b&rscd=inline&rsct=image/png&skoid=6aaadede-4fb3-4698-a8f6-684d7786b067&sktid=a48cca56-e6da-484e-a814-9c849652bcb3&skt=2023-05-19T20%3A56%3A34Z&ske=2023-05-20T20%3A56%3A34Z&sks=b&skv=2021-08-06&sig=eRiGkd7wn73fvVF7a/jCMvQ%2BgWYKlShPJXLyBKuNWLg%3D\"\n",
              "    }\n",
              "  ]\n",
              "}"
            ]
          },
          "metadata": {},
          "execution_count": 9
        }
      ]
    }
  ]
}