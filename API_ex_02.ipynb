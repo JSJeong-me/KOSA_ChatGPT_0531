{
  "nbformat": 4,
  "nbformat_minor": 0,
  "metadata": {
    "colab": {
      "provenance": [],
      "authorship_tag": "ABX9TyM8hk9u/bAyK2U6GZAs/7Kv",
      "include_colab_link": true
    },
    "kernelspec": {
      "name": "python3",
      "display_name": "Python 3"
    },
    "language_info": {
      "name": "python"
    }
  },
  "cells": [
    {
      "cell_type": "markdown",
      "metadata": {
        "id": "view-in-github",
        "colab_type": "text"
      },
      "source": [
        "<a href=\"https://colab.research.google.com/github/JSJeong-me/KOSA_ChatGPT_0531/blob/main/API_ex_02.ipynb\" target=\"_parent\"><img src=\"https://colab.research.google.com/assets/colab-badge.svg\" alt=\"Open In Colab\"/></a>"
      ]
    },
    {
      "cell_type": "code",
      "execution_count": null,
      "metadata": {
        "id": "IfjOf5xnefjy"
      },
      "outputs": [],
      "source": [
        "%env OPENAI_API_KEY=sk-"
      ]
    },
    {
      "cell_type": "code",
      "source": [
        "!pip install openai"
      ],
      "metadata": {
        "id": "Zr8PZ5LHffxd"
      },
      "execution_count": null,
      "outputs": []
    },
    {
      "cell_type": "markdown",
      "source": [
        "### Recipe creator"
      ],
      "metadata": {
        "id": "j2Qvs1-Ufq7d"
      }
    },
    {
      "cell_type": "code",
      "source": [
        "import os\n",
        "import openai\n",
        "\n",
        "openai.api_key = os.getenv(\"OPENAI_API_KEY\")\n",
        "\n",
        "response = openai.Completion.create(\n",
        "  model=\"text-davinci-003\",\n",
        "  prompt=\"Topic: Whale\\nThree-Sentence Horror Story:\",\n",
        "  temperature=0.3,\n",
        "  max_tokens=120,\n",
        "  top_p=1,\n",
        "  frequency_penalty=0,\n",
        "  presence_penalty=0\n",
        ")"
      ],
      "metadata": {
        "id": "jzZuRVKMfqCK"
      },
      "execution_count": 3,
      "outputs": []
    },
    {
      "cell_type": "code",
      "source": [
        "response"
      ],
      "metadata": {
        "id": "PCtgpn85f53h",
        "outputId": "b2572f8f-48a4-4be2-f1e7-1544a66ea2ee",
        "colab": {
          "base_uri": "https://localhost:8080/"
        }
      },
      "execution_count": 5,
      "outputs": [
        {
          "output_type": "execute_result",
          "data": {
            "text/plain": [
              "<OpenAIObject text_completion id=cmpl-7LhgbHAkBQkzhXllWtLw3CBr3yKde at 0x7f2beacbb6f0> JSON: {\n",
              "  \"choices\": [\n",
              "    {\n",
              "      \"finish_reason\": \"stop\",\n",
              "      \"index\": 0,\n",
              "      \"logprobs\": null,\n",
              "      \"text\": \"\\nThe old fisherman had been out on the sea for days, with no luck in catching any fish. Suddenly, he felt a tug on his line and he started to reel it in, only to find a giant whale on the other end. He screamed in terror as the whale opened its mouth and dragged him down into the depths of the ocean.\"\n",
              "    }\n",
              "  ],\n",
              "  \"created\": 1685407173,\n",
              "  \"id\": \"cmpl-7LhgbHAkBQkzhXllWtLw3CBr3yKde\",\n",
              "  \"model\": \"text-davinci-003\",\n",
              "  \"object\": \"text_completion\",\n",
              "  \"usage\": {\n",
              "    \"completion_tokens\": 70,\n",
              "    \"prompt_tokens\": 11,\n",
              "    \"total_tokens\": 81\n",
              "  }\n",
              "}"
            ]
          },
          "metadata": {},
          "execution_count": 5
        }
      ]
    }
  ]
}